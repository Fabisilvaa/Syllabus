{
 "cells": [
  {
   "cell_type": "markdown",
   "id": "3676c66b",
   "metadata": {
    "id": "3676c66b"
   },
   "source": [
    "# <u><h><center> Ayudantía 1: Resolucíon  taller 1a</center></h></u>\n",
    "## IIC2115 - Programación Como Herramienta para la Ingeniería \n",
    "### Ayudante: Pedro Saavedra Benavente\n",
    "#### Segundo semestre 2021"
   ]
  },
  {
   "cell_type": "markdown",
   "id": "5d2a1603",
   "metadata": {
    "id": "5d2a1603"
   },
   "source": [
    "Primero importamos las librerías a utilizar: "
   ]
  },
  {
   "cell_type": "code",
   "execution_count": 1,
   "id": "c7a227e7",
   "metadata": {
    "id": "c7a227e7"
   },
   "outputs": [],
   "source": [
    "from collections import deque #para hacer las colas de espera\n",
    "import random #para cuando algo sea aleatorio\n",
    "from abc import abstractmethod, ABCMeta #para metodos abstractos"
   ]
  },
  {
   "cell_type": "markdown",
   "id": "75128c95",
   "metadata": {
    "id": "75128c95"
   },
   "source": [
    "## <u>Modelo de clases</u>"
   ]
  },
  {
   "cell_type": "markdown",
   "id": "cd29eb09",
   "metadata": {
    "id": "cd29eb09"
   },
   "source": [
    "Primero definimos la clase `Vehículo` la cual va a ser la base de una jerarquía de 4 tipos de vehículos posibles.Esta clase va a ser una clase abstracta. Los atributos que va a tener son:\n",
    "\n",
    "* `duracion_atencion`: tiempo que se demora en ser atendido según el tipo de vehículo y el tipo de combustible\n",
    "\n",
    "Sus métodos son:\n",
    "\n",
    "* `tipo`: tipo de vehículo dentro de los 4 posibles\n",
    "* `combustible`: tipo de bencina que utiliza dentro de los 4 posibles\n",
    "* `encender`: prueba del motor del vehículo (nos sirve para mostrar polimorfismo)\n",
    "* ` __str__`: información relevante del vehículo"
   ]
  },
  {
   "cell_type": "code",
   "execution_count": 2,
   "id": "8dda5541",
   "metadata": {
    "id": "8dda5541"
   },
   "outputs": [],
   "source": [
    "class Vehiculo(metaclass=ABCMeta): #Una clase base abstracta\n",
    "    \n",
    "    def __init__(self,duracion_atencion):\n",
    "        self.duracion_atencion = duracion_atencion #atributos\n",
    "\n",
    "    @abstractmethod #metodos sin implementar\n",
    "    def tipo(self):\n",
    "        pass\n",
    "    @abstractmethod\n",
    "    def combustible(self):\n",
    "        pass\n",
    "    \n",
    "    @abstractmethod\n",
    "    def encender(self): \n",
    "        pass\n",
    "    \n",
    "    def __str__(self): #implementación de str\n",
    "        return self.tipo() + ' que carga combustible ' + str(self.combustible())    "
   ]
  },
  {
   "cell_type": "markdown",
   "id": "f82d78d8",
   "metadata": {
    "id": "f82d78d8"
   },
   "source": [
    "Hacemos una clase `Motor` que va a tener como atributos:\n",
    "\n",
    "* `fabricante`: Marca que fabricó el motor, es elegida aleatoriamente entre algunas marcas arbitrarías\n",
    "* `numero_serie_motor`: Numero único que identifica a la instancia una vez creada\n",
    "* `combustible_recomendado`: combustible recomendado por el fabricante, se escoge de forma aleatoria \n",
    "\n",
    "También el siguiente método:\n",
    "\n",
    "* `duracion_extra`: entrega la duración extra para cargar combustible según el tipo de gasolina recomendada por el fabricante.\n"
   ]
  },
  {
   "cell_type": "code",
   "execution_count": 3,
   "id": "ebe820c5",
   "metadata": {
    "executionInfo": {
     "elapsed": 237,
     "status": "ok",
     "timestamp": 1629737680862,
     "user": {
      "displayName": "Pablo SEISDEDOS ALVARADO",
      "photoUrl": "https://lh3.googleusercontent.com/a-/AOh14GggeOsnjpEO9T46vZ9_alR99bZlcR4Q9l93WtTbNg=s64",
      "userId": "17496555782543431589"
     },
     "user_tz": 240
    },
    "id": "ebe820c5"
   },
   "outputs": [],
   "source": [
    "class Motor:\n",
    "    numero_serie_motor = 100000\n",
    "    def __init__(self):\n",
    "        self.fabricante = random.choice(['Toyota','Suzuki','Tesla','BMW','Yamaha','Skoda','Porsche','Mercedes-Benz']) \n",
    "        self.numero_serie_motor = Motor.numero_serie_motor\n",
    "        Motor.numero_serie_motor += 1 #esto nos permite modificar el valor inicial de numero de seríe para que siempre sea uno nuevo\n",
    "        self.combustible_recomendado = random.choice(['93','95','97','Diesel'])\n",
    "        \n",
    "    def duracion_extra(self): \n",
    "        if self.combustible_recomendado == '93':\n",
    "            return 1\n",
    "        if self.combustible_recomendado == '95':\n",
    "            return 0 \n",
    "        if self.combustible_recomendado == '97':\n",
    "            return -1\n",
    "        if self.combustible_recomendado == 'Diesel':\n",
    "            return 2       "
   ]
  },
  {
   "cell_type": "markdown",
   "id": "d9bf5145",
   "metadata": {
    "id": "d9bf5145"
   },
   "source": [
    "Ahora vamos a hacer las clases de vehículos que heredan de la base anterior. Las cuatro clases son `Moto`, `Camioneta`, `City_car`, `Deportivo`. Estas clases sobrescriben los métodos ya explicados en la clase `vehículos`. También hay un atributo nuevo: \n",
    "\n",
    "* ` motor`: clase motor que participa como atributo en de estas nuevas clases y entrega información relevante sobre el tipo de combustible y el modificador de la duración de atención.\n"
   ]
  },
  {
   "cell_type": "code",
   "execution_count": 4,
   "id": "4b8bdbf1",
   "metadata": {
    "id": "4b8bdbf1"
   },
   "outputs": [],
   "source": [
    "class Moto(Vehiculo): #herencia\n",
    "    \n",
    "    def __init__(self): \n",
    "        super().__init__(3) #elegimos una duración de atención arbitraria base para todo los vehiculos tipo moto\n",
    "        self.motor = Motor() # Clases que participen como atributos en otras\n",
    "        self.duracion_atencion = self.duracion_atencion+self.motor.duracion_extra() #moficación segun motor\n",
    "\n",
    "    def tipo(self): # overriding\n",
    "        return \"Moto\"\n",
    "    \n",
    "    def combustible(self):\n",
    "        return self.motor.combustible_recomendado\n",
    "    \n",
    "    def encender(self):\n",
    "        print('[VEHÍCULO] RRM RRM') #polimorfismo\n",
    "        \n",
    "class Camioneta(Vehiculo): #herencia\n",
    "    \n",
    "    def __init__(self): \n",
    "        super().__init__(7) #elegimos una duración de atención arbitraria base para todo los vehiculos tipo Camioneta\n",
    "        self.motor = Motor() # Clases que participen como atributos en otras\n",
    "        self.duracion_atencion = self.duracion_atencion+self.motor.duracion_extra()\n",
    "\n",
    "    def tipo(self): # overriding\n",
    "        return \"Camioneta\"\n",
    "    \n",
    "    def combustible(self):\n",
    "        return self.motor.combustible_recomendado  \n",
    "    \n",
    "    def encender(self):\n",
    "        print('[VEHÍCULO] BRMMMMMM') #polimorfismo\n",
    "        \n",
    "class City_car(Vehiculo): #herencia\n",
    "    \n",
    "    def __init__(self): \n",
    "        super().__init__(4) #elegimos una duración de atención arbitraria base para todo los vehiculos tipo City car\n",
    "        self.motor = Motor() # Clases que participen como atributos en otras\n",
    "        self.duracion_atencion = self.duracion_atencion+self.motor.duracion_extra()\n",
    "\n",
    "    def tipo(self): # overriding\n",
    "        return \"City car\"\n",
    "\n",
    "    def combustible(self):\n",
    "        return self.motor.combustible_recomendado    \n",
    "    \n",
    "    def encender(self):\n",
    "        print('[VEHÍCULO] BRMMM') #polimorfismo\n",
    "        \n",
    "class Deportivo(Vehiculo): #herencia\n",
    "    \n",
    "    def __init__(self): \n",
    "        super().__init__(5) #elegimos una duración de atención arbitraria base para todo los vehiculos tipo Deportivo\n",
    "        self.motor = Motor() # Clases que participen como atributos en otras\n",
    "        self.duracion_atencion = self.duracion_atencion+self.motor.duracion_extra()\n",
    "        \n",
    "    def tipo(self): # overriding\n",
    "        return \"Deportivo\"\n",
    "\n",
    "    def combustible(self):\n",
    "        return self.motor.combustible_recomendado\n",
    "    \n",
    "    def encender(self):\n",
    "        print('[VEHÍCULO] BRMMMMMM BRMMMMMM!') #polimorfismo\n",
    "        "
   ]
  },
  {
   "cell_type": "markdown",
   "id": "b58523ac",
   "metadata": {
    "id": "b58523ac"
   },
   "source": [
    "Si bien esta ultima clase no es estrictamente necesaria nos va a ayudar a “ambientar” la simulación. La clase Bombero corresponde a los que atienden la estación de servicio. Tiene como atributo su `nombre` y como método `atender` que despliega un mensaje de atención para la simulación."
   ]
  },
  {
   "cell_type": "code",
   "execution_count": 5,
   "id": "017033b3",
   "metadata": {
    "id": "017033b3"
   },
   "outputs": [],
   "source": [
    "class Bombero:\n",
    "    def __init__(self, nombre):\n",
    "        self.nombre = nombre\n",
    "        \n",
    "    def atender(self, vehiculo):\n",
    "        print('[BOMBERO] Bombero ' + self.nombre + ' atendiendo a ' + str(vehiculo))"
   ]
  },
  {
   "cell_type": "markdown",
   "id": "8571f50d",
   "metadata": {
    "id": "8571f50d"
   },
   "source": [
    "## <u>Simulación</u>\n",
    "\n",
    "Esta segunda parte no es necesaría para cumplir con el objetivo de participación del taller. Se tomaron tres decisiones/supuestos arbitrarias, la primera es que solo existen dos colas (aunque es fácilmente expandible a un número mayor modificando los atributos de inicialización), la segunda es que la probabilidad de que en un tiempo dado llegue un vehículo es de 0.4, la tercera es que solo los autos que están al final de las colas se pueden cambiar y si lo hacen lo hacen desde la cola de mayor tamaño a la de menor tamaño. "
   ]
  },
  {
   "cell_type": "code",
   "execution_count": 6,
   "id": "a6e558d1",
   "metadata": {
    "id": "a6e558d1",
    "scrolled": true
   },
   "outputs": [],
   "source": [
    "class Estacion:#el enunciado dice que son al menos 2 colas por lo que vamos a hacer solo dos colas, pero de forma tal que sea simplemgeneralizar para mas\n",
    "    def __init__(self): \n",
    "        self.tarea_actual = [None,None]\n",
    "        self.tiempo_atencion = [0,0]\n",
    "        self.cola_atencion = [deque(),deque()]\n",
    "        self.tiempo_espera = [[],[]]\n",
    "        self.bombero = [Bombero('Bob'),Bombero('Pablo')]\n",
    "        \n",
    "    def __call__(self, max_t):\n",
    "        for t in range(max_t):\n",
    "            vehiculo = self.llega_vehiculo_nuevo()\n",
    "            \n",
    "            if vehiculo != None:\n",
    "                indice_cola = self.cola_atencion.index(min(self.cola_atencion, key=len)) #determinar cola de menor tamaño\n",
    "                self.cola_atencion[indice_cola].append(vehiculo) #agregamos el vehiculo a la cola de menor tamaño\n",
    "                print('[COLA] llega {} en tiempo de simulacion t={} min. Hay {} vehiculos en la cola de menor tamaño que es la numero {}.'.format(self.cola_atencion[indice_cola][-1], t, len(self.cola_atencion[indice_cola]),indice_cola+1))\n",
    "                vehiculo.encender()\n",
    "                \n",
    "            #aqui tenemos que hacer el mov de vehiculos de una cola a otra\n",
    "            #vamos a asumir que los unicos vehiculos que se pueden mover son los del final de la cola (los mas lejos de ser atendidos)\n",
    "            indice_cola_menor = self.cola_atencion.index(min(self.cola_atencion, key=len)) #determinar cola de menor tamaño\n",
    "            indice_cola_mayor = self.cola_atencion.index(max(self.cola_atencion, key=len)) #determinar cola de mayor tamaño\n",
    "            largo_cola_mayor = len(self.cola_atencion[indice_cola_menor])\n",
    "            largo_cola_menor = len(self.cola_atencion[indice_cola_mayor])\n",
    "            #si las colas no son del mismo tamaño los vehiculos se cambian de la cola de mayor tamaño a la de menor tamaño para equilibrarla\n",
    "            if largo_cola_mayor != largo_cola_menor:\n",
    "                for vehiculo in range(largo_cola_mayor-largo_cola_menor):\n",
    "                    veh_cambiandose = self.cola_atencion[indice_cola_mayor].pop()\n",
    "                    self.cola_atencion[indice_cola_menor].append(veh_cambiandose)\n",
    "            \n",
    "            for pos,cola in enumerate(self.cola_atencion): \n",
    "                if (self.tarea_actual[pos] == None) and (len(cola) > 0):\n",
    "                    # se extrae el proximo auto en la cola de atención\n",
    "                    ac_auto = self.cola_atencion[pos].popleft()\n",
    "                    self.tiempo_espera[pos].append(ac_auto.duracion_atencion)\n",
    "                    self.proximo_vehiculo(ac_auto,pos)\n",
    "                    \n",
    "                # descuenta un tick de tiempo al auto en espera\n",
    "                self.tick(pos)\n",
    "                     \n",
    "        print()\n",
    "        print('Estadísticas:')\n",
    "        for indice in range(len(self.cola_atencion)):\n",
    "            tiempo_promedio = sum(self.tiempo_espera[indice]) / len(self.tiempo_espera[indice])\n",
    "            tiempo_total = sum(self.tiempo_espera[indice])\n",
    "            print('Tiempo promedio de espera cola {} es de {} min.'.format(str(indice+1),tiempo_promedio))\n",
    "            print('Tiempo total de atención de la cola {} fue de {} min'.format(str(indice+1),sum(self.tiempo_espera[indice])))\n",
    "            print('Total de vehículos atendidos por la cola {}: {}'.format(str(indice+1),len(self.tiempo_espera[indice])))\n",
    "\n",
    "    def proximo_vehiculo(self, vehiculo,indice_cola):\n",
    "        self.tarea_actual[indice_cola] = vehiculo\n",
    "        self.tiempo_atencion[indice_cola] = vehiculo.duracion_atencion\n",
    "        self.bombero[indice_cola].atender(vehiculo)\n",
    "        print('[BOMBA] Atendiendo {0} con un tiempo promedio de {1} min'.format(self.tarea_actual[indice_cola].tipo(), self.tiempo_atencion[indice_cola]))\n",
    "        \n",
    "    def tick(self,pos):\n",
    "        if self.tarea_actual[pos] != None:\n",
    "            self.tiempo_atencion[pos] -= 1\n",
    "            if self.tiempo_atencion[pos] <= 0:\n",
    "                print('[BOMBA] termina atencion de {}'.format(self.tarea_actual[pos]))\n",
    "                self.tarea_actual[pos] = None\n",
    "    \n",
    "    def llega_vehiculo_nuevo(self):\n",
    "        if random.random() >= 0.6: #probabilidad arbitraria P de que llegue un auto\n",
    "            return random.choice([Moto(),Camioneta(),City_car(),Deportivo()]) #es igual de probable que sea cualquiera de los 4 tipos\n",
    "        else:\n",
    "            return None"
   ]
  },
  {
   "cell_type": "code",
   "execution_count": 7,
   "id": "f2ab4be2",
   "metadata": {
    "colab": {
     "base_uri": "https://localhost:8080/"
    },
    "executionInfo": {
     "elapsed": 200,
     "status": "ok",
     "timestamp": 1629737159879,
     "user": {
      "displayName": "Pablo SEISDEDOS ALVARADO",
      "photoUrl": "https://lh3.googleusercontent.com/a-/AOh14GggeOsnjpEO9T46vZ9_alR99bZlcR4Q9l93WtTbNg=s64",
      "userId": "17496555782543431589"
     },
     "user_tz": 240
    },
    "id": "f2ab4be2",
    "outputId": "0b743734-1427-4684-db24-c7e8773b2cae",
    "scrolled": false
   },
   "outputs": [
    {
     "name": "stdout",
     "output_type": "stream",
     "text": [
      "[COLA] llega City car que carga combustible 97 en tiempo de simulacion t=0 min. Hay 1 vehiculos en la cola de menor tamaño que es la numero 1.\n",
      "[VEHÍCULO] BRMMM\n",
      "[BOMBERO] Bombero Bob atendiendo a City car que carga combustible 97\n",
      "[BOMBA] Atendiendo City car con un tiempo promedio de 3 min\n",
      "[BOMBA] termina atencion de City car que carga combustible 97\n",
      "[COLA] llega City car que carga combustible 93 en tiempo de simulacion t=3 min. Hay 1 vehiculos en la cola de menor tamaño que es la numero 1.\n",
      "[VEHÍCULO] BRMMM\n",
      "[BOMBERO] Bombero Bob atendiendo a City car que carga combustible 93\n",
      "[BOMBA] Atendiendo City car con un tiempo promedio de 5 min\n",
      "[BOMBA] termina atencion de City car que carga combustible 93\n",
      "[COLA] llega Camioneta que carga combustible 93 en tiempo de simulacion t=8 min. Hay 1 vehiculos en la cola de menor tamaño que es la numero 1.\n",
      "[VEHÍCULO] BRMMMMMM\n",
      "[BOMBERO] Bombero Bob atendiendo a Camioneta que carga combustible 93\n",
      "[BOMBA] Atendiendo Camioneta con un tiempo promedio de 8 min\n",
      "[COLA] llega Deportivo que carga combustible Diesel en tiempo de simulacion t=10 min. Hay 1 vehiculos en la cola de menor tamaño que es la numero 1.\n",
      "[VEHÍCULO] BRMMMMMM BRMMMMMM!\n",
      "[COLA] llega Deportivo que carga combustible 93 en tiempo de simulacion t=11 min. Hay 1 vehiculos en la cola de menor tamaño que es la numero 2.\n",
      "[VEHÍCULO] BRMMMMMM BRMMMMMM!\n",
      "[BOMBERO] Bombero Pablo atendiendo a Deportivo que carga combustible 93\n",
      "[BOMBA] Atendiendo Deportivo con un tiempo promedio de 6 min\n",
      "[COLA] llega Moto que carga combustible 97 en tiempo de simulacion t=12 min. Hay 1 vehiculos en la cola de menor tamaño que es la numero 2.\n",
      "[VEHÍCULO] RRM RRM\n",
      "[COLA] llega Deportivo que carga combustible Diesel en tiempo de simulacion t=13 min. Hay 2 vehiculos en la cola de menor tamaño que es la numero 1.\n",
      "[VEHÍCULO] BRMMMMMM BRMMMMMM!\n",
      "[BOMBA] termina atencion de Camioneta que carga combustible 93\n",
      "[COLA] llega Moto que carga combustible 93 en tiempo de simulacion t=16 min. Hay 2 vehiculos en la cola de menor tamaño que es la numero 2.\n",
      "[VEHÍCULO] RRM RRM\n",
      "[BOMBERO] Bombero Bob atendiendo a Deportivo que carga combustible Diesel\n",
      "[BOMBA] Atendiendo Deportivo con un tiempo promedio de 7 min\n",
      "[BOMBA] termina atencion de Deportivo que carga combustible 93\n",
      "[COLA] llega City car que carga combustible 97 en tiempo de simulacion t=17 min. Hay 2 vehiculos en la cola de menor tamaño que es la numero 1.\n",
      "[VEHÍCULO] BRMMM\n",
      "[BOMBERO] Bombero Pablo atendiendo a Moto que carga combustible 97\n",
      "[BOMBA] Atendiendo Moto con un tiempo promedio de 2 min\n",
      "[BOMBA] termina atencion de Moto que carga combustible 97\n",
      "[COLA] llega City car que carga combustible 93 en tiempo de simulacion t=19 min. Hay 2 vehiculos en la cola de menor tamaño que es la numero 2.\n",
      "[VEHÍCULO] BRMMM\n",
      "[BOMBERO] Bombero Pablo atendiendo a Moto que carga combustible 93\n",
      "[BOMBA] Atendiendo Moto con un tiempo promedio de 4 min\n",
      "[COLA] llega City car que carga combustible 97 en tiempo de simulacion t=20 min. Hay 2 vehiculos en la cola de menor tamaño que es la numero 2.\n",
      "[VEHÍCULO] BRMMM\n",
      "[COLA] llega City car que carga combustible 97 en tiempo de simulacion t=21 min. Hay 3 vehiculos en la cola de menor tamaño que es la numero 1.\n",
      "[VEHÍCULO] BRMMM\n",
      "[BOMBA] termina atencion de Deportivo que carga combustible Diesel\n",
      "[BOMBA] termina atencion de Moto que carga combustible 93\n",
      "[BOMBERO] Bombero Bob atendiendo a Deportivo que carga combustible Diesel\n",
      "[BOMBA] Atendiendo Deportivo con un tiempo promedio de 7 min\n",
      "[BOMBERO] Bombero Pablo atendiendo a City car que carga combustible 93\n",
      "[BOMBA] Atendiendo City car con un tiempo promedio de 5 min\n",
      "[BOMBA] termina atencion de City car que carga combustible 93\n",
      "[BOMBERO] Bombero Pablo atendiendo a City car que carga combustible 97\n",
      "[BOMBA] Atendiendo City car con un tiempo promedio de 3 min\n",
      "[COLA] llega Moto que carga combustible 97 en tiempo de simulacion t=29 min. Hay 1 vehiculos en la cola de menor tamaño que es la numero 2.\n",
      "[VEHÍCULO] RRM RRM\n",
      "[BOMBA] termina atencion de Deportivo que carga combustible Diesel\n",
      "[COLA] llega Deportivo que carga combustible 93 en tiempo de simulacion t=30 min. Hay 2 vehiculos en la cola de menor tamaño que es la numero 2.\n",
      "[VEHÍCULO] BRMMMMMM BRMMMMMM!\n",
      "[BOMBERO] Bombero Bob atendiendo a City car que carga combustible 97\n",
      "[BOMBA] Atendiendo City car con un tiempo promedio de 3 min\n",
      "[BOMBA] termina atencion de City car que carga combustible 97\n",
      "[COLA] llega City car que carga combustible 93 en tiempo de simulacion t=31 min. Hay 2 vehiculos en la cola de menor tamaño que es la numero 1.\n",
      "[VEHÍCULO] BRMMM\n",
      "[BOMBERO] Bombero Pablo atendiendo a Moto que carga combustible 97\n",
      "[BOMBA] Atendiendo Moto con un tiempo promedio de 2 min\n",
      "[COLA] llega Moto que carga combustible 93 en tiempo de simulacion t=32 min. Hay 2 vehiculos en la cola de menor tamaño que es la numero 2.\n",
      "[VEHÍCULO] RRM RRM\n",
      "[BOMBA] termina atencion de City car que carga combustible 97\n",
      "[BOMBA] termina atencion de Moto que carga combustible 97\n",
      "[BOMBERO] Bombero Bob atendiendo a City car que carga combustible 97\n",
      "[BOMBA] Atendiendo City car con un tiempo promedio de 3 min\n",
      "[BOMBERO] Bombero Pablo atendiendo a Deportivo que carga combustible 93\n",
      "[BOMBA] Atendiendo Deportivo con un tiempo promedio de 6 min\n",
      "[COLA] llega City car que carga combustible 93 en tiempo de simulacion t=34 min. Hay 2 vehiculos en la cola de menor tamaño que es la numero 1.\n",
      "[VEHÍCULO] BRMMM\n",
      "[BOMBA] termina atencion de City car que carga combustible 97\n",
      "[COLA] llega Moto que carga combustible 97 en tiempo de simulacion t=36 min. Hay 2 vehiculos en la cola de menor tamaño que es la numero 2.\n",
      "[VEHÍCULO] RRM RRM\n",
      "[BOMBERO] Bombero Bob atendiendo a City car que carga combustible 93\n",
      "[BOMBA] Atendiendo City car con un tiempo promedio de 5 min\n",
      "[COLA] llega Deportivo que carga combustible Diesel en tiempo de simulacion t=37 min. Hay 2 vehiculos en la cola de menor tamaño que es la numero 1.\n",
      "[VEHÍCULO] BRMMMMMM BRMMMMMM!\n",
      "[BOMBA] termina atencion de Deportivo que carga combustible 93\n",
      "[COLA] llega City car que carga combustible 95 en tiempo de simulacion t=39 min. Hay 3 vehiculos en la cola de menor tamaño que es la numero 1.\n",
      "[VEHÍCULO] BRMMM\n",
      "[BOMBERO] Bombero Pablo atendiendo a Moto que carga combustible 93\n",
      "[BOMBA] Atendiendo Moto con un tiempo promedio de 4 min\n",
      "[BOMBA] termina atencion de City car que carga combustible 93\n",
      "[BOMBERO] Bombero Bob atendiendo a City car que carga combustible 93\n",
      "[BOMBA] Atendiendo City car con un tiempo promedio de 5 min\n",
      "[COLA] llega Camioneta que carga combustible Diesel en tiempo de simulacion t=42 min. Hay 2 vehiculos en la cola de menor tamaño que es la numero 2.\n",
      "[VEHÍCULO] BRMMMMMM\n",
      "[BOMBA] termina atencion de Moto que carga combustible 93\n",
      "[COLA] llega Deportivo que carga combustible Diesel en tiempo de simulacion t=43 min. Hay 3 vehiculos en la cola de menor tamaño que es la numero 1.\n",
      "[VEHÍCULO] BRMMMMMM BRMMMMMM!\n",
      "[BOMBERO] Bombero Pablo atendiendo a Moto que carga combustible 97\n",
      "[BOMBA] Atendiendo Moto con un tiempo promedio de 2 min\n",
      "[COLA] llega Deportivo que carga combustible 93 en tiempo de simulacion t=44 min. Hay 2 vehiculos en la cola de menor tamaño que es la numero 2.\n",
      "[VEHÍCULO] BRMMMMMM BRMMMMMM!\n",
      "[BOMBA] termina atencion de Moto que carga combustible 97\n",
      "[COLA] llega Moto que carga combustible Diesel en tiempo de simulacion t=45 min. Hay 3 vehiculos en la cola de menor tamaño que es la numero 2.\n",
      "[VEHÍCULO] RRM RRM\n",
      "[BOMBA] termina atencion de City car que carga combustible 93\n",
      "[BOMBERO] Bombero Pablo atendiendo a Camioneta que carga combustible Diesel\n",
      "[BOMBA] Atendiendo Camioneta con un tiempo promedio de 9 min\n",
      "[COLA] llega City car que carga combustible 93 en tiempo de simulacion t=46 min. Hay 3 vehiculos en la cola de menor tamaño que es la numero 2.\n",
      "[VEHÍCULO] BRMMM\n",
      "[BOMBERO] Bombero Bob atendiendo a Deportivo que carga combustible Diesel\n",
      "[BOMBA] Atendiendo Deportivo con un tiempo promedio de 7 min\n",
      "[COLA] llega Deportivo que carga combustible Diesel en tiempo de simulacion t=47 min. Hay 3 vehiculos en la cola de menor tamaño que es la numero 1.\n",
      "[VEHÍCULO] BRMMMMMM BRMMMMMM!\n",
      "[COLA] llega Deportivo que carga combustible 95 en tiempo de simulacion t=50 min. Hay 4 vehiculos en la cola de menor tamaño que es la numero 1.\n",
      "[VEHÍCULO] BRMMMMMM BRMMMMMM!\n",
      "[BOMBA] termina atencion de Deportivo que carga combustible Diesel\n",
      "[BOMBERO] Bombero Bob atendiendo a City car que carga combustible 95\n",
      "[BOMBA] Atendiendo City car con un tiempo promedio de 4 min\n",
      "[BOMBA] termina atencion de Camioneta que carga combustible Diesel\n",
      "[BOMBERO] Bombero Pablo atendiendo a Deportivo que carga combustible 93\n",
      "[BOMBA] Atendiendo Deportivo con un tiempo promedio de 6 min\n",
      "[COLA] llega Deportivo que carga combustible Diesel en tiempo de simulacion t=55 min. Hay 3 vehiculos en la cola de menor tamaño que es la numero 2.\n",
      "[VEHÍCULO] BRMMMMMM BRMMMMMM!\n",
      "[COLA] llega Camioneta que carga combustible Diesel en tiempo de simulacion t=56 min. Hay 4 vehiculos en la cola de menor tamaño que es la numero 1.\n",
      "[VEHÍCULO] BRMMMMMM\n",
      "[BOMBA] termina atencion de City car que carga combustible 95\n",
      "[COLA] llega City car que carga combustible Diesel en tiempo de simulacion t=57 min. Hay 4 vehiculos en la cola de menor tamaño que es la numero 2.\n",
      "[VEHÍCULO] BRMMM\n",
      "[BOMBERO] Bombero Bob atendiendo a Deportivo que carga combustible Diesel\n",
      "[BOMBA] Atendiendo Deportivo con un tiempo promedio de 7 min\n",
      "[BOMBA] termina atencion de Deportivo que carga combustible 93\n",
      "[COLA] llega City car que carga combustible 93 en tiempo de simulacion t=60 min. Hay 4 vehiculos en la cola de menor tamaño que es la numero 1.\n",
      "[VEHÍCULO] BRMMM\n",
      "[BOMBERO] Bombero Pablo atendiendo a Moto que carga combustible Diesel\n",
      "[BOMBA] Atendiendo Moto con un tiempo promedio de 5 min\n",
      "[COLA] llega City car que carga combustible Diesel en tiempo de simulacion t=63 min. Hay 4 vehiculos en la cola de menor tamaño que es la numero 2.\n",
      "[VEHÍCULO] BRMMM\n",
      "[BOMBA] termina atencion de Deportivo que carga combustible Diesel\n",
      "[BOMBERO] Bombero Bob atendiendo a Deportivo que carga combustible Diesel\n",
      "[BOMBA] Atendiendo Deportivo con un tiempo promedio de 7 min\n",
      "[BOMBA] termina atencion de Moto que carga combustible Diesel\n",
      "[COLA] llega Camioneta que carga combustible Diesel en tiempo de simulacion t=65 min. Hay 4 vehiculos en la cola de menor tamaño que es la numero 1.\n",
      "[VEHÍCULO] BRMMMMMM\n",
      "[BOMBERO] Bombero Pablo atendiendo a City car que carga combustible 93\n",
      "[BOMBA] Atendiendo City car con un tiempo promedio de 5 min\n",
      "[BOMBA] termina atencion de City car que carga combustible 93\n",
      "[BOMBA] termina atencion de Deportivo que carga combustible Diesel\n",
      "[BOMBERO] Bombero Pablo atendiendo a Deportivo que carga combustible Diesel\n",
      "[BOMBA] Atendiendo Deportivo con un tiempo promedio de 7 min\n",
      "[COLA] llega City car que carga combustible 93 en tiempo de simulacion t=71 min. Hay 3 vehiculos en la cola de menor tamaño que es la numero 2.\n",
      "[VEHÍCULO] BRMMM\n",
      "[BOMBERO] Bombero Bob atendiendo a Deportivo que carga combustible 95\n",
      "[BOMBA] Atendiendo Deportivo con un tiempo promedio de 5 min\n",
      "[COLA] llega Moto que carga combustible 95 en tiempo de simulacion t=75 min. Hay 4 vehiculos en la cola de menor tamaño que es la numero 1.\n",
      "[VEHÍCULO] RRM RRM\n",
      "[BOMBA] termina atencion de Deportivo que carga combustible 95\n",
      "[COLA] llega City car que carga combustible 97 en tiempo de simulacion t=76 min. Hay 4 vehiculos en la cola de menor tamaño que es la numero 2.\n",
      "[VEHÍCULO] BRMMM\n",
      "[BOMBERO] Bombero Bob atendiendo a Camioneta que carga combustible Diesel\n",
      "[BOMBA] Atendiendo Camioneta con un tiempo promedio de 9 min\n",
      "[BOMBA] termina atencion de Deportivo que carga combustible Diesel\n",
      "[BOMBERO] Bombero Pablo atendiendo a City car que carga combustible Diesel\n",
      "[BOMBA] Atendiendo City car con un tiempo promedio de 6 min\n",
      "\n",
      "Estadísticas:\n",
      "Tiempo promedio de espera cola 1 es de 5.666666666666667 min.\n",
      "Tiempo total de atención de la cola 1 fue de 85 min\n",
      "Total de vehículos atendidos por la cola 1: 15\n",
      "Tiempo promedio de espera cola 2 es de 4.8 min.\n",
      "Tiempo total de atención de la cola 2 fue de 72 min\n",
      "Total de vehículos atendidos por la cola 2: 15\n"
     ]
    }
   ],
   "source": [
    "if __name__ == '__main__':\n",
    "       \n",
    "    prt = Estacion()\n",
    "    max_t = 80\n",
    "    prt(max_t)"
   ]
  }
 ],
 "metadata": {
  "colab": {
   "collapsed_sections": [],
   "name": "T1a_Pauta.ipynb",
   "provenance": []
  },
  "kernelspec": {
   "display_name": "Python 3",
   "language": "python",
   "name": "python3"
  },
  "language_info": {
   "codemirror_mode": {
    "name": "ipython",
    "version": 3
   },
   "file_extension": ".py",
   "mimetype": "text/x-python",
   "name": "python",
   "nbconvert_exporter": "python",
   "pygments_lexer": "ipython3",
   "version": "3.8.8"
  }
 },
 "nbformat": 4,
 "nbformat_minor": 5
}
