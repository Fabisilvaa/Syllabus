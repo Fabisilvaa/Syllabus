{
 "cells": [
  {
   "cell_type": "markdown",
   "metadata": {
    "id": "akL_ZKvnauqk"
   },
   "source": [
    "# Pauta taller T2b\n",
    "\n",
    "## IIC2115 - Programación Como Herramienta para la Ingeniería\n",
    "\n",
    "## Ayudante: Ignacio Rojas López"
   ]
  },
  {
   "cell_type": "markdown",
   "metadata": {
    "id": "Rvr5dTXgtptW"
   },
   "source": [
    "**Problema:** Programar una función *conteo_subfilas_x*, que cuente el número de subfilas que se pueden obtener a partir de una fila de letras, cuyas primer y última letra sean iguales.\n",
    "\n",
    "Debe funcionar de tal manera que:"
   ]
  },
  {
   "cell_type": "code",
   "execution_count": null,
   "metadata": {
    "colab": {
     "base_uri": "https://localhost:8080/"
    },
    "id": "xA4H2GNfvfmw",
    "outputId": "11910e93-72c9-4258-97db-e79d9ee5d700"
   },
   "outputs": [
    {
     "name": "stdout",
     "output_type": "stream",
     "text": [
      "8\n"
     ]
    }
   ],
   "source": [
    "fila_inicial = \"hjdhji\"\n",
    "n_subfilas = conteo_subfilas_x(fila_inicial)\n",
    "print(n_subfilas)"
   ]
  },
  {
   "cell_type": "markdown",
   "metadata": {
    "id": "HLbkPZG4fAz8"
   },
   "source": [
    "# Esquema A: Iterativa"
   ]
  },
  {
   "cell_type": "markdown",
   "metadata": {
    "id": "32c44crZi4Ja"
   },
   "source": [
    "Atacamos el problema con un \"doble for\":"
   ]
  },
  {
   "cell_type": "code",
   "execution_count": null,
   "metadata": {
    "id": "8dlbWr30opWY"
   },
   "outputs": [],
   "source": [
    "def conteo_subfilas_a(fila):\n",
    "  if not fila:\n",
    "    return 0\n",
    "\n",
    "  subfilas_cnt = len(fila)  # contador de subfilas, parte desde el largo de la fila\n",
    "\n",
    "  # Recorremos la fila de letras:\n",
    "  for pos, letra in enumerate(fila):\n",
    "    # Recorremos el resto de las letras buscando repetidas:\n",
    "    otras_letras = fila[pos + 1:]\n",
    "    for otra_letra in otras_letras:\n",
    "      if letra == otra_letra:\n",
    "        subfilas_cnt+=1\n",
    "\n",
    "  return subfilas_cnt      \n"
   ]
  },
  {
   "cell_type": "code",
   "execution_count": null,
   "metadata": {
    "colab": {
     "base_uri": "https://localhost:8080/"
    },
    "id": "DIEb5QgTqFnX",
    "outputId": "6f1b61ca-c9c3-4591-a997-983b474f7ee8"
   },
   "outputs": [
    {
     "name": "stdout",
     "output_type": "stream",
     "text": [
      "8\n"
     ]
    }
   ],
   "source": [
    "if __name__ == '__main__':\n",
    "  fila_inicial = \"hjdhji\"\n",
    "  n_subfilas = conteo_subfilas_a(fila_inicial)\n",
    "  print(n_subfilas)"
   ]
  },
  {
   "cell_type": "markdown",
   "metadata": {
    "id": "6mnNuG4H6uc_"
   },
   "source": [
    "# Esquema B: Recursiva"
   ]
  },
  {
   "cell_type": "markdown",
   "metadata": {
    "id": "B3ubVY1YBLfh"
   },
   "source": [
    "Nota: La solución presentada aquí es diferente a la mostrada en la ayudantía del jueves, se modificó debido a que refleja de mejor forma el uso de recursión para resolver del problema"
   ]
  },
  {
   "cell_type": "code",
   "execution_count": null,
   "metadata": {
    "id": "qVbgMC7BBLfj"
   },
   "outputs": [],
   "source": [
    "# Funcion que llamaremos:\n",
    "def conteo_subfilas_b(fila):\n",
    "  if not fila:\n",
    "    return 0\n",
    "  \n",
    "  # Nuestra función auxiliar recibe un string \"fila\", y la posición inicial y final\n",
    "  # del substring que analizaremos:\n",
    "  numero_subfilas = conteo_helper_b(fila, 0, len(fila) - 1)\n",
    "  return numero_subfilas\n",
    "\n",
    "# Esta función auxiliar nos permite trabajar con más parámetros en nuestra recursión,\n",
    "# respetando el formato pedido en el enunciado. \n",
    "def conteo_helper_b(fila, inicio, final):\n",
    "  # Casos base\n",
    "  if (inicio == final): # si el largo es igual a 1, sumamos 1 subfila válida:\n",
    "    return 1\n",
    "  if (inicio > final): # si el largo es 0, no sumamos nada:\n",
    "    return 0\n",
    "\n",
    "  # Continuamos la recursión disminuyendo nuestra fila de 3 maneras: \n",
    "  num_subfilas = (\n",
    "      conteo_helper_b(fila, inicio + 1, final) # 1. contamos subfilas válidas que se pueden obtener \"eliminando\" el primer elemento.\n",
    "      + conteo_helper_b(fila, inicio, final - 1) # 2. contamos subfilas válidas que se pueden obtener \"eliminando\" el último elemento.\n",
    "      - conteo_helper_b(fila, inicio + 1, final - 1) # 3. descontamos los casos repetidos de 1. y 2. \"eliminando\" tanto el primer como último elemento.\n",
    "      )    \n",
    "  \n",
    "  if (fila[inicio] == fila[final]): # Si nuestra fila actual es válida, la contamos\n",
    "      num_subfilas += 1\n",
    "\n",
    "  return num_subfilas\n"
   ]
  },
  {
   "cell_type": "code",
   "execution_count": null,
   "metadata": {
    "colab": {
     "base_uri": "https://localhost:8080/"
    },
    "id": "DNOxsj6dBLfk",
    "outputId": "4565ac85-9543-464b-82e0-4d63a822bca4"
   },
   "outputs": [
    {
     "name": "stdout",
     "output_type": "stream",
     "text": [
      "8\n"
     ]
    }
   ],
   "source": [
    "if __name__ == '__main__':\n",
    "  fila_inicial = \"hjdhji\"\n",
    "  n_subfilas = conteo_subfilas_b(fila_inicial)\n",
    "  print(n_subfilas)"
   ]
  },
  {
   "cell_type": "markdown",
   "metadata": {
    "id": "pf4HVISMbcmr"
   },
   "source": [
    "## Visualización gráfica de la recursión:\n",
    "\n",
    "En la siguiente imagen podemos ver visualizado en un grafo lo que ocurre al llamar a nuestra función recursiva <i>*conteo_subfilas_b(\"abcab\")*</i>. Cada nodo corresponde a una llamada a la función realizada por su nodo padre. Podemos ver que el nodo inicial \"abcab\" genera otros 3 llamados a la función con una fila cada vez más pequeña, eliminando el último elemento (nodo \"abca\"), eliminando el primero (nodo \"bcab\"), y eliminando ambos (nodo \"bca\").\n",
    "\n",
    "Cuando se llega a los casos base, la función comienza a retornar su valor a su nodo padre. El nodo padre va a sumar lo recibido por los hijos de la izquierda y el medio (números azules), y restar lo del hijo de la derecha (números rojos). Esta resta se realiza para tener en cuenta los casos de subfilas válidas que se repiten en las primeras dos llamadas a la función. Por último, cada nodo revisa si su propia subfila es válida, en cuyo caso suma 1 a lo obtenido de los nodos hijos (números verdes), y entrega el valor a la llamada padre.\n",
    "\n",
    "<img src=\"figs/graph.png\">"
   ]
  },
  {
   "cell_type": "markdown",
   "metadata": {
    "id": "uqCMRo3lO22T"
   },
   "source": [
    "# Esquema C: Dividir y conquistar"
   ]
  },
  {
   "cell_type": "markdown",
   "metadata": {
    "id": "aUg5RISsVAPh"
   },
   "source": [
    "Utilizamos dividir y conquistar por medio de backtracking:"
   ]
  },
  {
   "cell_type": "code",
   "execution_count": null,
   "metadata": {
    "id": "uYPA6QRGVAP_"
   },
   "outputs": [],
   "source": [
    "# Funcion que llamaremos:\n",
    "def conteo_subfilas_c(fila):\n",
    "  if not fila:\n",
    "    return 0\n",
    "  \n",
    "  # Nuestra función auxiliar, además del número de subfilas válidas, retorna un \n",
    "  # diccionario \"dict_letras\", cuyas llaves son las letras del string \"fila\",\n",
    "  # y sus valores son la frecuencia de cada letra en \"fila\".\n",
    "  dict_letras, numero_subfilas = conteo_helper_c(fila, 0, len(fila) - 1)\n",
    "  return numero_subfilas\n",
    "\n",
    "# Al igual que para el esquema B, utilizamos una función auxiliar:\n",
    "def conteo_helper_c(fila, inicio, final):\n",
    "  # Caso base, cuando nuestra subfila es de largo 1, retornamos el diccionario y\n",
    "  # la cantidad de subfilas válidas para esa única letra:\n",
    "  if inicio >= final:  \n",
    "      return {fila[inicio]: 1}, 1\n",
    "      \n",
    "  # Para los otros casos, dividimos la fila por la mitad y aplicamos recursión a esas mitades:\n",
    "  else:\n",
    "    punto_medio = (inicio + final)//2\n",
    "    dict_letras_i, num_subfilas_i = conteo_helper_c(\n",
    "        fila, inicio, punto_medio)  # recursión a la mitad izquierda\n",
    "    dict_letras_d, num_subfilas_d = conteo_helper_c(\n",
    "        fila, punto_medio + 1, final)  # recursión a la mitad derecha\n",
    "\n",
    "    # sumamos la cantidad de subfilas de ambos lados al contador de subfilas.\n",
    "    cnt_subfilas = num_subfilas_i + num_subfilas_d\n",
    "\n",
    "    # Si hay letras iguales en la subfila izuierda y derecha, significa que hay nuevas subfilas válidas.\n",
    "    # Las contamos multiplicado la frecuencia de cada letra de un lado, con la frecuencia de esa letra en el otro lado:\n",
    "    for letra in dict_letras_i:\n",
    "        if letra in dict_letras_d:\n",
    "            cnt_subfilas += dict_letras_i[letra] * dict_letras_d[letra]\n",
    "\n",
    "    # Unimos ambos diccionarios, para tener una version actualizada:\n",
    "    for letra in dict_letras_d:\n",
    "        if letra in dict_letras_i:\n",
    "            dict_letras_i[letra] += dict_letras_d[letra]\n",
    "        else:\n",
    "            dict_letras_i[letra] = dict_letras_d[letra]\n",
    "    \n",
    "    # Retornamos el diccionario actualizado y la cantidad de subfilas:\n",
    "    return dict_letras_i, cnt_subfilas"
   ]
  },
  {
   "cell_type": "code",
   "execution_count": null,
   "metadata": {
    "colab": {
     "base_uri": "https://localhost:8080/"
    },
    "id": "ri26KVCRVJ-a",
    "outputId": "c8d67ec5-c4e7-4855-b0e3-470a44cf0090"
   },
   "outputs": [
    {
     "name": "stdout",
     "output_type": "stream",
     "text": [
      "8\n"
     ]
    }
   ],
   "source": [
    "if __name__ == '__main__':\n",
    "  fila_inicial = \"hjdhji\"\n",
    "  n_subfilas = conteo_subfilas_c(fila_inicial)\n",
    "  print(n_subfilas)\n"
   ]
  }
 ],
 "metadata": {
  "colab": {
   "collapsed_sections": [],
   "name": "T2b_pauta.ipynb",
   "provenance": []
  },
  "kernelspec": {
   "display_name": "Python 3",
   "language": "python",
   "name": "python3"
  },
  "language_info": {
   "codemirror_mode": {
    "name": "ipython",
    "version": 3
   },
   "file_extension": ".py",
   "mimetype": "text/x-python",
   "name": "python",
   "nbconvert_exporter": "python",
   "pygments_lexer": "ipython3",
   "version": "3.8.3"
  }
 },
 "nbformat": 4,
 "nbformat_minor": 1
}
