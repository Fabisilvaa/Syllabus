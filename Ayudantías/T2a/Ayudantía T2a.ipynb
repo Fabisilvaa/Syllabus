{
  "nbformat": 4,
  "nbformat_minor": 0,
  "metadata": {
    "colab": {
      "name": "T2a_pauta.ipynb",
      "provenance": [],
      "collapsed_sections": [],
      "toc_visible": true
    },
    "kernelspec": {
      "display_name": "Python 3",
      "language": "python",
      "name": "python3"
    },
    "language_info": {
      "codemirror_mode": {
        "name": "ipython",
        "version": 3
      },
      "file_extension": ".py",
      "mimetype": "text/x-python",
      "name": "python",
      "nbconvert_exporter": "python",
      "pygments_lexer": "ipython3",
      "version": "3.6.8"
    }
  },
  "cells": [
    {
      "cell_type": "markdown",
      "metadata": {
        "id": "akL_ZKvnauqk"
      },
      "source": [
        "# Pauta taller T2a\n",
        "\n",
        "\n",
        "## IIC2115 - Programación Como Herramienta para la Ingeniería\n",
        "\n",
        "## Ayudante: Ignacio Rojas López"
      ]
    },
    {
      "cell_type": "markdown",
      "metadata": {
        "id": "ZuxIXCrH6GZj"
      },
      "source": [
        "**Problema:** Programar una función *mayores_x()* que, a partir de una lista de edades, obtenga las posiciones de aquellas edades mayores a todas las edades que le siguen en la fila.\n",
        "\n"
      ]
    },
    {
      "cell_type": "markdown",
      "metadata": {
        "id": "HLbkPZG4fAz8"
      },
      "source": [
        "# Esquema A: Fuerza Bruta"
      ]
    },
    {
      "cell_type": "markdown",
      "metadata": {
        "id": "32c44crZi4Ja"
      },
      "source": [
        "Atacamos el problema con un \"doble for\":"
      ]
    },
    {
      "cell_type": "code",
      "metadata": {
        "id": "8dlbWr30opWY"
      },
      "source": [
        "def mayores_a(fila_edades):\n",
        "  if not fila_edades:   # Caso base\n",
        "    return []\n",
        "\n",
        "  pos_ganadores = []  # Lista que contendrá las posiciones de los ganadores\n",
        "  es_el_mayor = True\n",
        "\n",
        "  # Recorremos la fila de edades desde el primer alumno al penúltimo\n",
        "  for pos, edad in enumerate(fila_edades[:-1]):\n",
        "    \n",
        "    # Recorremos el resto de las edades para ver si son todas menores\n",
        "    otras_edades = fila_edades[pos + 1:]\n",
        "    for otra_edad in otras_edades:\n",
        "      \n",
        "      if not edad > otra_edad:\n",
        "        es_el_mayor = False\n",
        "        break\n",
        "    \n",
        "    if es_el_mayor:\n",
        "      pos_ganadores.append(pos)  # Se añade posición ganadora\n",
        "\n",
        "    es_el_mayor = True\n",
        "  \n",
        "  # Añadimos la posición del último alumno, que siempre gana\n",
        "  last_pos = len(fila_edades) - 1\n",
        "  pos_ganadores.append(last_pos)\n",
        "\n",
        "  return pos_ganadores      \n"
      ],
      "execution_count": 1,
      "outputs": []
    },
    {
      "cell_type": "code",
      "metadata": {
        "colab": {
          "base_uri": "https://localhost:8080/"
        },
        "id": "DIEb5QgTqFnX",
        "outputId": "0ae82955-d73f-4422-b7d1-434f67e2c6f5"
      },
      "source": [
        "fila_edades = [10, 4, 6, 3, 5]\n",
        "mayores_a(fila_edades)"
      ],
      "execution_count": 3,
      "outputs": [
        {
          "output_type": "execute_result",
          "data": {
            "text/plain": [
              "[0, 2, 4]"
            ]
          },
          "metadata": {},
          "execution_count": 3
        }
      ]
    },
    {
      "cell_type": "markdown",
      "metadata": {
        "id": "6mnNuG4H6uc_"
      },
      "source": [
        "# Esquema B: Stack"
      ]
    },
    {
      "cell_type": "markdown",
      "metadata": {
        "id": "8LjakMwRfUa-"
      },
      "source": [
        "Esquema Stack con listas:"
      ]
    },
    {
      "cell_type": "code",
      "metadata": {
        "id": "BzCTRYYC6udA"
      },
      "source": [
        "def mayores_b(fila_edades):\n",
        "  if not fila_edades:\n",
        "    return []\n",
        "\n",
        "  stack = []  # Lista que modelará nuestro stack de posiciones\n",
        "\n",
        "  for pos, edad in enumerate(fila_edades):\n",
        "\n",
        "    # Mientras hay elementos en el stack y la siguiente edad es mayor o igual que la del stack\n",
        "    while stack and fila_edades[stack[-1]] <= edad:\n",
        "      # Eliminamos el último item del stack:\n",
        "      stack.pop()  \n",
        "\n",
        "    stack.append(pos)\n",
        "\n",
        "  return stack"
      ],
      "execution_count": 28,
      "outputs": []
    },
    {
      "cell_type": "code",
      "metadata": {
        "colab": {
          "base_uri": "https://localhost:8080/"
        },
        "id": "Cko-gMtuBkGI",
        "outputId": "2db9c580-f221-44e1-f7a9-9cd8c97e2010"
      },
      "source": [
        "fila_edades = [10, 4, 6, 3, 5]\n",
        "print(mayores_b(fila_edades))"
      ],
      "execution_count": 27,
      "outputs": [
        {
          "output_type": "stream",
          "name": "stdout",
          "text": [
            "[0, 2, 4]\n"
          ]
        }
      ]
    },
    {
      "cell_type": "markdown",
      "metadata": {
        "id": "uqCMRo3lO22T"
      },
      "source": [
        "# Esquema C: Minimalista"
      ]
    },
    {
      "cell_type": "code",
      "metadata": {
        "id": "jdWzfYGCO22V"
      },
      "source": [
        "import sys\n",
        "\n",
        "def mayores_c(fila_edades):\n",
        "  if not fila_edades:\n",
        "    return []\n",
        "\n",
        "  pos_ganadores = []\n",
        "\n",
        "  max_edad = -sys.maxsize  # Valor siempre menor\n",
        "  # Damos vuelta nuestra lista con reversed() e iteramos:\n",
        "  for pos, edad in reversed(list(enumerate(fila_edades))):\n",
        "    if edad > max_edad:\n",
        "      max_edad = edad\n",
        "      pos_ganadores.append(pos)\n",
        "\n",
        "  return pos_ganadores"
      ],
      "execution_count": 29,
      "outputs": []
    },
    {
      "cell_type": "code",
      "metadata": {
        "colab": {
          "base_uri": "https://localhost:8080/"
        },
        "id": "V2PlRrIAO22V",
        "outputId": "ac44c4e6-7a10-4dd8-d7bd-e983df20b836"
      },
      "source": [
        "fila_edades = [10, 4, 6, 3, 5]\n",
        "mayores_c(fila_edades)"
      ],
      "execution_count": 30,
      "outputs": [
        {
          "output_type": "execute_result",
          "data": {
            "text/plain": [
              "[4, 2, 0]"
            ]
          },
          "metadata": {},
          "execution_count": 30
        }
      ]
    },
    {
      "cell_type": "markdown",
      "metadata": {
        "id": "YaeYL0UuZZKG"
      },
      "source": [
        "# Funciones con contador\n"
      ]
    },
    {
      "cell_type": "code",
      "metadata": {
        "id": "M7-3OMFRBz4k"
      },
      "source": [
        "def fuerza_bruta_cnt(fila_edades):\n",
        "  cnt = 0\n",
        "  if not fila_edades:   # Caso base\n",
        "    return [], cnt\n",
        "\n",
        "  pos_ganadores = []  # Lista que contendrá las posiciones de los ganadores\n",
        "  es_el_mayor = True\n",
        "\n",
        "  # Recorremos la fila de edades desde el primer alumno al penúltimo\n",
        "  for pos, edad in enumerate(fila_edades[:-1]):\n",
        "    \n",
        "    # Recorremos el resto de las edades para ver si son todas menores\n",
        "    otras_edades = fila_edades[pos + 1:]\n",
        "    for otra_edad in otras_edades:\n",
        "      cnt+=1\n",
        "      if not edad > otra_edad:\n",
        "        es_el_mayor = False\n",
        "        break\n",
        "    \n",
        "    if es_el_mayor:\n",
        "      pos_ganadores.append(pos)  # Se añade posición ganadora\n",
        "\n",
        "    es_el_mayor = True\n",
        "  \n",
        "  # Añadimos la posición del último alumno, que siempre gana\n",
        "  last_pos = len(fila_edades) - 1\n",
        "  pos_ganadores.append(last_pos)\n",
        "\n",
        "  return pos_ganadores, cnt      \n"
      ],
      "execution_count": 32,
      "outputs": []
    },
    {
      "cell_type": "code",
      "metadata": {
        "id": "0R-om9GBBz4m"
      },
      "source": [
        "def stack_cnt(fila_edades):\n",
        "  cnt = 0\n",
        "  if not fila_edades:   # Caso base\n",
        "    return [], cnt\n",
        "  \n",
        "  stack = []  # Lista que modelará nuestro stack de posiciones\n",
        "\n",
        "  for pos, edad in enumerate(fila_edades):\n",
        "    cnt+=1\n",
        "    # Mientras hay elementos en el stack y la siguiente edad es mayor o igual que la del stack\n",
        "    while stack and fila_edades[stack[-1]] <= edad:\n",
        "      cnt+=1\n",
        "      # Eliminamos el último item del stack:\n",
        "      stack.pop()  \n",
        "\n",
        "    stack.append(pos)\n",
        "\n",
        "  return stack, cnt"
      ],
      "execution_count": 34,
      "outputs": []
    },
    {
      "cell_type": "code",
      "metadata": {
        "id": "DfVppyIrBz4n"
      },
      "source": [
        "import sys\n",
        "\n",
        "def minimalista_cnt(fila_edades):\n",
        "  cnt = 0\n",
        "  if not fila_edades:   # Caso base\n",
        "    return [], cnt\n",
        "\n",
        "  pos_ganadores = []\n",
        "\n",
        "  max_edad = -sys.maxsize  # Valor siempre menor\n",
        "  # Damos vuelta nuestra lista con reversed e iteramos:\n",
        "  for pos, edad in reversed(list(enumerate(fila_edades))):\n",
        "    cnt+=1\n",
        "    if edad > max_edad:\n",
        "      max_edad = edad\n",
        "      pos_ganadores.append(pos)\n",
        "\n",
        "  return pos_ganadores, cnt"
      ],
      "execution_count": 39,
      "outputs": []
    },
    {
      "cell_type": "markdown",
      "metadata": {
        "id": "l76mzJdHBonD"
      },
      "source": [
        "# Comparando Soluciones\n"
      ]
    },
    {
      "cell_type": "markdown",
      "metadata": {
        "id": "FVbMxw0naeGt"
      },
      "source": [
        "Procedemos a comparar la eficiencia de cada algoritmo, medido según la cantidad de elementos iterados:"
      ]
    },
    {
      "cell_type": "code",
      "metadata": {
        "id": "yytqTH44aquW"
      },
      "source": [
        "import random\n",
        "# Fila con 100 edades aleatorias del 1 al 50\n",
        "fila_edades_larga = [random.randrange(1, 50, 1) for i in range(100)]"
      ],
      "execution_count": 35,
      "outputs": []
    },
    {
      "cell_type": "code",
      "metadata": {
        "colab": {
          "base_uri": "https://localhost:8080/"
        },
        "id": "1QbYi1h8bLlh",
        "outputId": "158af2f4-5364-4458-fecb-a92243f309f0"
      },
      "source": [
        " pos, cnt = fuerza_bruta_cnt(fila_edades_larga)\n",
        " print(\"Iteraciones fuerza bruta:\", cnt)"
      ],
      "execution_count": 36,
      "outputs": [
        {
          "output_type": "stream",
          "name": "stdout",
          "text": [
            "Iteraciones fuerza bruta: 334\n"
          ]
        }
      ]
    },
    {
      "cell_type": "code",
      "metadata": {
        "colab": {
          "base_uri": "https://localhost:8080/"
        },
        "id": "S3RRHCNIDDXO",
        "outputId": "3d192622-2ff2-4a77-8924-25b5882b48f9"
      },
      "source": [
        " pos, cnt = stack_cnt(fila_edades_larga)\n",
        " print(\"Iteraciones stak:\", cnt)"
      ],
      "execution_count": 37,
      "outputs": [
        {
          "output_type": "stream",
          "name": "stdout",
          "text": [
            "Iteraciones stak: 198\n"
          ]
        }
      ]
    },
    {
      "cell_type": "code",
      "metadata": {
        "colab": {
          "base_uri": "https://localhost:8080/"
        },
        "id": "dExvWfRXDDa1",
        "outputId": "7151104d-6466-4fba-a6ad-73a58a9e6c1f"
      },
      "source": [
        " pos, cnt = minimalista_cnt(fila_edades_larga)\n",
        " print(\"Iteraciones minimalista:\", cnt)"
      ],
      "execution_count": 40,
      "outputs": [
        {
          "output_type": "stream",
          "name": "stdout",
          "text": [
            "Iteraciones minimalista: 100\n"
          ]
        }
      ]
    }
  ]
}