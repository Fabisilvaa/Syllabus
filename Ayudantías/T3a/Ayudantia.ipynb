{
 "cells": [
  {
   "cell_type": "code",
   "execution_count": 1,
   "id": "c0038a66",
   "metadata": {},
   "outputs": [],
   "source": [
    "import sqlite3"
   ]
  },
  {
   "cell_type": "markdown",
   "id": "67f967f1",
   "metadata": {},
   "source": [
    "# Conociendo la base de datos"
   ]
  },
  {
   "cell_type": "code",
   "execution_count": 2,
   "id": "85c64eca",
   "metadata": {},
   "outputs": [],
   "source": [
    "def imprime_datos(BD_name): # Se debe ejecutar con la base de datos abierta.\n",
    "    sql_statement = \"SELECT name FROM sqlite_master WHERE type = 'table';\"\n",
    "    cursor.execute(sql_statement)\n",
    "    tablas = [nombre[0] for nombre in cursor.fetchall()]\n",
    "\n",
    "    print(f\"Información base de datos: {BD_name}\")\n",
    "    for tabla in tablas:\n",
    "        print(2*'\\n'+ f\"Información tabla {tabla}:\")\n",
    "        sql_statement = \"PRAGMA table_info({})\".format(tabla) #cid  name  type  notnull  dflt_value  pk\n",
    "        cursor.execute(sql_statement)\n",
    "\n",
    "        for columna in cursor:\n",
    "            cid, name, tipo, notnull, dflt_val, pk = *columna,\n",
    "            print(f'\\tInformación columna {cid} - {name}: {tipo}, {notnull}, {dflt_val}, {pk}')"
   ]
  },
  {
   "cell_type": "code",
   "execution_count": 3,
   "id": "9627a777",
   "metadata": {},
   "outputs": [
    {
     "name": "stdout",
     "output_type": "stream",
     "text": [
      "Información base de datos: lauretes.db\n",
      "\n",
      "\n",
      "Información tabla Persons:\n",
      "\tInformación columna 0 - pid: INTEGER, 0, None, 1\n",
      "\tInformación columna 1 - firstname: TEXT, 0, None, 0\n",
      "\tInformación columna 2 - surname: TEXT, 0, None, 0\n",
      "\tInformación columna 3 - born: DATE, 0, None, 0\n",
      "\tInformación columna 4 - died: DATE, 0, None, 0\n",
      "\tInformación columna 5 - bornCountry: TEXT, 0, None, 0\n",
      "\tInformación columna 6 - bornCountryCode: TEXT, 0, None, 0\n",
      "\tInformación columna 7 - bornCity: TEXT, 0, None, 0\n",
      "\tInformación columna 8 - diedCountry: TEXT, 0, None, 0\n",
      "\tInformación columna 9 - diedCountryCode: TEXT, 0, None, 0\n",
      "\tInformación columna 10 - diedCity: TEXT, 0, None, 0\n",
      "\tInformación columna 11 - gender: TEXT, 0, None, 0\n",
      "\n",
      "\n",
      "Información tabla Prizes:\n",
      "\tInformación columna 0 - prid: INTEGER, 0, None, 1\n",
      "\tInformación columna 1 - year: INTEGER, 0, None, 0\n",
      "\tInformación columna 2 - category: TEXT, 0, None, 0\n",
      "\tInformación columna 3 - share: INTEGER, 0, None, 0\n",
      "\tInformación columna 4 - motivation: TEXT, 0, None, 0\n",
      "\n",
      "\n",
      "Información tabla Affiliations:\n",
      "\tInformación columna 0 - aid: INTEGER, 0, None, 1\n",
      "\tInformación columna 1 - name: TEXT, 0, None, 0\n",
      "\tInformación columna 2 - city: TEXT, 0, None, 0\n",
      "\tInformación columna 3 - contry: TEXT, 0, None, 0\n",
      "\n",
      "\n",
      "Información tabla PrizesAffilations:\n",
      "\tInformación columna 0 - prize_id: INTEGER, 0, None, 1\n",
      "\tInformación columna 1 - affiliation_id: INTEGER, 0, None, 2\n",
      "\n",
      "\n",
      "Información tabla PersonsPrizes:\n",
      "\tInformación columna 0 - person_id: INTEGER, 0, None, 1\n",
      "\tInformación columna 1 - prize_id: INTEGER, 0, None, 2\n"
     ]
    }
   ],
   "source": [
    "BD_name = 'lauretes.db'\n",
    "connection = sqlite3.connect(BD_name)\n",
    "cursor = connection.cursor()\n",
    "imprime_datos(BD_name)\n",
    "connection.commit()\n",
    "connection.close()"
   ]
  },
  {
   "cell_type": "code",
   "execution_count": 4,
   "id": "76475e87",
   "metadata": {},
   "outputs": [],
   "source": [
    "import json\n",
    "import sqlite3"
   ]
  },
  {
   "cell_type": "code",
   "execution_count": 5,
   "id": "b259f3de",
   "metadata": {},
   "outputs": [],
   "source": [
    "with open('laureates.json', encoding='utf8') as movies_file:\n",
    "    lauretes = json.load(movies_file)"
   ]
  },
  {
   "cell_type": "code",
   "execution_count": 8,
   "id": "e83ab4a6",
   "metadata": {},
   "outputs": [],
   "source": [
    "connection = sqlite3.connect('lauretes.db')\n",
    "cursor = connection.cursor()\n",
    "\n",
    "cursor.execute(\"CREATE TABLE IF NOT EXISTS Persons(pid INTEGER PRIMARY KEY, firstname TEXT, surname TEXT, born DATE, died DATE, bornCountry TEXT, bornCountryCode TEXT, bornCity TEXT, diedCountry TEXT, diedCountryCode TEXT, diedCity TEXT, gender TEXT)\")\n",
    "cursor.execute(\"CREATE TABLE IF NOT EXISTS Prizes(prid INTEGER PRIMARY KEY, year INTEGER, category TEXT, share INTEGER, motivation TEXT)\")\n",
    "cursor.execute(\"CREATE TABLE IF NOT EXISTS Affiliations(aid INTEGER PRIMARY KEY, name TEXT, city TEXT, contry TEXT)\")\n",
    "cursor.execute(\"CREATE TABLE IF NOT EXISTS PrizesAffilations(prize_id INTEGER, affiliation_id INTEGER, FOREIGN KEY (prize_id) REFERENCES Prizes, FOREIGN KEY (affiliation_id) REFERENCES Affiliations, PRIMARY KEY(prize_id, affiliation_id))\")\n",
    "cursor.execute(\"CREATE TABLE IF NOT EXISTS PersonsPrizes(person_id INTEGER, prize_id INTEGER, FOREIGN KEY (person_id) REFERENCES Persons, FOREIGN KEY (prize_id) REFERENCES Prizes, PRIMARY KEY(person_id, prize_id))\")\n",
    "\n",
    "connection.commit()\n",
    "connection.close()"
   ]
  },
  {
   "cell_type": "code",
   "execution_count": 7,
   "id": "1eb11a61",
   "metadata": {},
   "outputs": [],
   "source": [
    "connection = sqlite3.connect('lauretes.db')\n",
    "cursor = connection.cursor()\n",
    "\n",
    "cursor.execute(\"DROP TABLE Persons\")\n",
    "cursor.execute(\"DROP TABLE Prizes\")\n",
    "cursor.execute(\"DROP TABLE PrizesAffilations\")\n",
    "cursor.execute(\"DROP TABLE Affiliations\")\n",
    "cursor.execute(\"DROP TABLE PersonsPrizes\")\n",
    "\n",
    "\n",
    "connection.commit()\n",
    "connection.close()"
   ]
  },
  {
   "cell_type": "code",
   "execution_count": 9,
   "id": "e10a3229",
   "metadata": {},
   "outputs": [],
   "source": [
    "connection = sqlite3.connect('lauretes.db')\n",
    "cursor = connection.cursor()\n",
    "\n",
    "prid = 1\n",
    "aid = 1\n",
    "prizes = {}\n",
    "affiliations = {}\n",
    "\n",
    "for laurete in lauretes:\n",
    "    #Dejamos en nulo los datos faltantes, de ser necesario.\n",
    "    if \"diedCity\" not in laurete.keys():\n",
    "        laurete[\"diedCity\"]= None\n",
    "    if \"diedCountry\" not in laurete.keys():\n",
    "        laurete[\"diedCountry\"]= None\n",
    "    if \"diedCountryCode\" not in laurete.keys():\n",
    "        laurete[\"diedCountryCode\"]= None\n",
    "    if \"surname\" not in laurete.keys():\n",
    "        laurete[\"surname\"]= None\n",
    "    if \"bornCountry\" not in laurete.keys():\n",
    "        laurete[\"bornCountry\"]= None\n",
    "    if \"bornCountryCode\" not in laurete.keys():\n",
    "        laurete[\"bornCountryCode\"]= None\n",
    "    if \"bornCity\" not in laurete.keys():\n",
    "        laurete[\"bornCity\"]= None\n",
    "    if \"born\" not in laurete.keys():\n",
    "        laurete['born']= None\n",
    "    cursor.execute(\"INSERT INTO Persons VALUES (?,?,?,?,?,?,?,?,?,?,?,?)\", (laurete['id'], \n",
    "                                                                            laurete['firstname'], \n",
    "                                                                            laurete['surname'], \n",
    "                                                                            laurete['born'], \n",
    "                                                                            laurete['died'], \n",
    "                                                                            laurete['bornCountry'], \n",
    "                                                                            laurete['bornCountryCode'], \n",
    "                                                                            laurete['bornCity'], \n",
    "                                                                            laurete['diedCountry'], \n",
    "                                                                            laurete['diedCountryCode'], \n",
    "                                                                            laurete['diedCity'], \n",
    "                                                                            laurete['gender']))\n",
    "     \n",
    "    for prize in laurete['prizes']:\n",
    "        \n",
    "        tuple_prize= (prize[\"year\"], prize[\"category\"], prize[\"motivation\"])\n",
    "        \n",
    "        if tuple_prize not in prizes:\n",
    "            \n",
    "            cursor.execute(\"INSERT INTO Prizes VALUES (?,?,?,?,?)\", (prid, \n",
    "                                                                     prize['year'], \n",
    "                                                                     prize['category'], \n",
    "                                                                     prize['share'], \n",
    "                                                                     prize['motivation']))\n",
    "            prizes[tuple_prize]= prid\n",
    "            #revisamos sus afiliaciones\n",
    "            for affiliation in prize['affiliations']:\n",
    "                if type(affiliation)!=list:\n",
    "                    #null de datos faltantes\n",
    "                    if \"city\" not in affiliation.keys():\n",
    "                        affiliation['city']= None\n",
    "                    if \"country\" not in affiliation.keys():\n",
    "                        affiliation['country']= None  \n",
    "\n",
    "                    affiliation_name= affiliation['name'] \n",
    "                    if affiliation_name not in affiliations:\n",
    "                        affiliations[affiliation_name] = aid\n",
    "\n",
    "                        cursor.execute(\"INSERT INTO Affiliations VALUES (?,?,?,?)\", (aid, affiliation['name'], affiliation['city'], affiliation['country']))\n",
    "\n",
    "                        aid = aid +  1\n",
    "                    cursor.execute(\"INSERT INTO PrizesAffilations VALUES (?,?)\", (prid, affiliations[affiliation_name]))\n",
    "            \n",
    "            prid= prid + 1\n",
    "        cursor.execute(\"INSERT INTO PersonsPrizes VALUES (?,?)\", (laurete[\"id\"], prizes[tuple_prize]))\n",
    "        \n",
    "        \n",
    "       \n",
    "        \n",
    "\n",
    "connection.commit()\n",
    "connection.close()"
   ]
  },
  {
   "cell_type": "code",
   "execution_count": null,
   "id": "6bf8cf59",
   "metadata": {},
   "outputs": [],
   "source": []
  }
 ],
 "metadata": {
  "kernelspec": {
   "display_name": "Python 3",
   "language": "python",
   "name": "python3"
  },
  "language_info": {
   "codemirror_mode": {
    "name": "ipython",
    "version": 3
   },
   "file_extension": ".py",
   "mimetype": "text/x-python",
   "name": "python",
   "nbconvert_exporter": "python",
   "pygments_lexer": "ipython3",
   "version": "3.7.8"
  }
 },
 "nbformat": 4,
 "nbformat_minor": 5
}
